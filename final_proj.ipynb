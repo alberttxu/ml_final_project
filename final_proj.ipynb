{
 "cells": [
  {
   "cell_type": "markdown",
   "metadata": {},
   "source": [
    "# Final Project\n",
    "Albert Xu & Regina Zbarskaya"
   ]
  },
  {
   "cell_type": "code",
   "execution_count": 19,
   "metadata": {},
   "outputs": [],
   "source": [
    "# import appropriate packages\n",
    "import matplotlib.pyplot as plt\n",
    "import numpy as np\n",
    "import pandas as pd\n",
    "import sklearn\n",
    "from sklearn.linear_model import LinearRegression, LogisticRegression\n",
    "from sklearn.preprocessing import PolynomialFeatures\n",
    "from sklearn.decomposition.pca import PCA\n",
    "from sklearn.model_selection import train_test_split\n",
    "from sklearn.svm import LinearSVC\n",
    "from sklearn import svm"
   ]
  },
  {
   "cell_type": "code",
   "execution_count": 20,
   "metadata": {},
   "outputs": [],
   "source": [
    "# https://archive.ics.uci.edu/ml/machine-learning-databases/wine-quality/\n",
    "# import data into dataframes \n",
    "df1 = pd.read_csv('winequality-red.csv', delimiter=';')\n",
    "df2 = pd.read_csv('winequality-white.csv', delimiter=';')\n",
    "\n",
    "# place values into arrays \n",
    "red = df1.values\n",
    "white = df2.values"
   ]
  },
  {
   "cell_type": "code",
   "execution_count": 21,
   "metadata": {},
   "outputs": [
    {
     "data": {
      "text/plain": [
       "3248"
      ]
     },
     "execution_count": 21,
     "metadata": {},
     "output_type": "execute_result"
    }
   ],
   "source": [
    "# Create column of ones for red and column of zeros for white \n",
    "red = np.hstack((df1.values, np.ones((red.shape[0], 1))))\n",
    "white = np.hstack((df2.values, np.zeros((white.shape[0], 1))))\n",
    "\n",
    "# Combine both red and white arrays into one final array \n",
    "X = np.vstack((red, white))\n",
    "\n",
    "# Separate y from x by using last column of 1s/0s to indicate red/white \n",
    "X, y = X[:,:-1], X[:,-1]\n",
    "\n",
    "# Split data randomly into (approximately) equal arrays of training and testing data \n",
    "X_train, X_test, y_train, y_test = train_test_split(X, y, test_size=0.5)\n",
    "len(y_train)"
   ]
  },
  {
   "cell_type": "markdown",
   "metadata": {},
   "source": [
    "# Logistic Regression"
   ]
  },
  {
   "cell_type": "code",
   "execution_count": 22,
   "metadata": {},
   "outputs": [
    {
     "name": "stdout",
     "output_type": "stream",
     "text": [
      "\n",
      "Lasso (L1) Regularization: \n",
      "\tTraining Accuracy: 98.49%\n",
      "\tTest Accuracy: 98.77%\n",
      "\n",
      "Ridge (L2) Regularization: \n",
      "\tTraining Accuracy: 97.91%\n",
      "\tTest Accuracy: 98.43%\n"
     ]
    },
    {
     "data": {
      "text/plain": [
       "(97.9064039408867, 98.4302862419206)"
      ]
     },
     "execution_count": 22,
     "metadata": {},
     "output_type": "execute_result"
    }
   ],
   "source": [
    "# Apply logistic regression on data to predict red/white wine \n",
    "def logreg_model(pen, X_train, X_test, y_train, y_test, suppress):\n",
    "    logreg = LogisticRegression(penalty=pen)\n",
    "    logreg.fit(X_train, y_train)\n",
    "    yhat = logreg.predict(X_test)\n",
    "    \n",
    "    tr_acc = logreg.score(X_train, y_train)*100\n",
    "    ts_acc = logreg.score(X_test, y_test)*100\n",
    "    if(not suppress):\n",
    "        print('\\tTraining Accuracy: {0:.2f}%'.format(tr_acc))\n",
    "        print('\\tTest Accuracy: {0:.2f}%'.format(ts_acc))\n",
    "    return tr_acc, ts_acc\n",
    "    \n",
    "# ---------- Lasso (L1) Regularization ----------\n",
    "print('\\nLasso (L1) Regularization: ')\n",
    "logreg_model('l1', X_train, X_test, y_train, y_test, 0)\n",
    "\n",
    "# ---------- Ridge (L2) Regularization ----------\n",
    "print('\\nRidge (L2) Regularization: ')\n",
    "logreg_model('l2', X_train, X_test, y_train, y_test, 0)"
   ]
  },
  {
   "cell_type": "code",
   "execution_count": 23,
   "metadata": {},
   "outputs": [
    {
     "name": "stdout",
     "output_type": "stream",
     "text": [
      "\n",
      "(2) Poly Feature Transformation, Lasso (L1) Regularization: \n",
      "\tTraining Accuracy: 99.17%\n",
      "\tTest Accuracy: 98.43%\n",
      "\n",
      "(2) Poly Feature Transformation, Ridge (L2) Regularization: \n",
      "\tTraining Accuracy: 98.68%\n",
      "\tTest Accuracy: 98.21%\n",
      "\n",
      "(3) Poly Feature Transformation, Lasso (L1) Regularization: \n",
      "\tTraining Accuracy: 99.69%\n",
      "\tTest Accuracy: 98.95%\n",
      "\n",
      "(3) Poly Feature Transformation, Ridge (L2) Regularization: \n",
      "\tTraining Accuracy: 97.48%\n",
      "\tTest Accuracy: 97.54%\n"
     ]
    }
   ],
   "source": [
    "# ---------- Polynomial Feature Transformation (2, 3) ----------\n",
    "def poly_t(feat, model):\n",
    "    poly = PolynomialFeatures(feat)\n",
    "    \n",
    "    # Create the transformed data matrices for training and test using poly.fit_transform(..)\n",
    "    X_transformed_train = poly.fit_transform(X_train)\n",
    "    X_transformed_test = poly.fit_transform(X_test)\n",
    "    \n",
    "    logreg_model(model, X_transformed_train, X_transformed_test, y_train, y_test, 0)\n",
    "    \n",
    "# Perform logistic regression with both regularizations\n",
    "for i in range(2,4):\n",
    "    print('\\n({0}) Poly Feature Transformation, Lasso (L1) Regularization: '.format(i))\n",
    "    poly_t(i, 'l1')\n",
    "    print('\\n({0}) Poly Feature Transformation, Ridge (L2) Regularization: '.format(i))\n",
    "    poly_t(i, 'l2')"
   ]
  },
  {
   "cell_type": "code",
   "execution_count": 24,
   "metadata": {
    "scrolled": true
   },
   "outputs": [
    {
     "data": {
      "text/plain": [
       "<matplotlib.legend.Legend at 0x113163198>"
      ]
     },
     "execution_count": 24,
     "metadata": {},
     "output_type": "execute_result"
    },
    {
     "data": {
      "image/png": "[encoded data removed]",
      "text/plain": [
       "<Figure size 432x288 with 1 Axes>"
      ]
     },
     "metadata": {},
     "output_type": "display_data"
    }
   ],
   "source": [
    "# ---------- Changing Number of Principle Components (Logistic) ----------\n",
    "def pca_transform(X, n_components):\n",
    "    pca = PCA(n_components)\n",
    "    pca.fit(X)\n",
    "    return pca.transform(X)\n",
    "\n",
    "# create arrays to hold test accuracy \n",
    "test_acc_1 = []\n",
    "test_acc_2 = []\n",
    "for i in range(1, 13):\n",
    "    # split original x array based on n components \n",
    "    X2_train, X2_test, Y2_train, Y2_test = train_test_split(pca_transform(X, i), y, test_size=0.5)\n",
    "    # fit using l1 regularization \n",
    "    acc = logreg_model('l1', X2_train, X2_test, Y2_train, Y2_test, 1)\n",
    "    test_acc_1.append(acc[1])\n",
    "    # fit using l2 regularization \n",
    "    acc = logreg_model('l2', X2_train, X2_test, Y2_train, Y2_test, 1)\n",
    "    test_acc_2.append(acc[1])\n",
    "\n",
    "# plot both regularizations on one graph \n",
    "l1, = plt.plot(range(1, 13), test_acc_1, label='L1 Regularization')\n",
    "plt.title('Logistic Test Accuracy vs # of Principle Components')\n",
    "plt.xlabel('# of components')\n",
    "plt.ylabel('Test Accuracy')\n",
    "\n",
    "l2, = plt.plot(range(1,13), test_acc_2, label='L2 Regularization')\n",
    "plt.legend(handles=[l1, l2])"
   ]
  },
  {
   "cell_type": "markdown",
   "metadata": {},
   "source": [
    "# Support Vector Machines (SVM)"
   ]
  },
  {
   "cell_type": "markdown",
   "metadata": {},
   "source": [
    "#### LinearSVM"
   ]
  },
  {
   "cell_type": "code",
   "execution_count": 25,
   "metadata": {
    "scrolled": true
   },
   "outputs": [
    {
     "name": "stdout",
     "output_type": "stream",
     "text": [
      "\n",
      "Lasso (L1) Regularization: \n",
      "\tTraining Accuracy: 98.74%\n",
      "\tTest Accuracy: 98.74%\n",
      "\n",
      "Ridge (L2) Regularization: \n",
      "\tTraining Accuracy: 98.74%\n",
      "\tTest Accuracy: 98.95%\n"
     ]
    },
    {
     "data": {
      "text/plain": [
       "(98.73768472906403, 98.9535241612804)"
      ]
     },
     "execution_count": 25,
     "metadata": {},
     "output_type": "execute_result"
    }
   ],
   "source": [
    "# Apply linear SVM to on data to predict red/white wine \n",
    "def svm_linear(pen, X_train, X_test, y_train, y_test, suppress):\n",
    "    model = LinearSVC(penalty=pen,loss='squared_hinge',dual=False)\n",
    "    model.fit(X_train, y_train)\n",
    "    \n",
    "    tr_acc = model.score(X_train, y_train)*100\n",
    "    ts_acc = model.score(X_test, y_test)*100\n",
    "    if(not suppress):\n",
    "        print('\\tTraining Accuracy: {0:.2f}%'.format(tr_acc))\n",
    "        print('\\tTest Accuracy: {0:.2f}%'.format(ts_acc))\n",
    "    return tr_acc, ts_acc\n",
    "    \n",
    "# ---------- Lasso (L1) Regularization ----------\n",
    "print('\\nLasso (L1) Regularization: ')\n",
    "svm_linear('l1', X_train, X_test, y_train, y_test, 0)\n",
    "\n",
    "# ---------- Ridge (L2) Regularization ----------\n",
    "print('\\nRidge (L2) Regularization: ')\n",
    "svm_linear('l2', X_train, X_test, y_train, y_test, 0)"
   ]
  },
  {
   "cell_type": "code",
   "execution_count": 26,
   "metadata": {},
   "outputs": [
    {
     "data": {
      "text/plain": [
       "<matplotlib.legend.Legend at 0x113288fd0>"
      ]
     },
     "execution_count": 26,
     "metadata": {},
     "output_type": "execute_result"
    },
    {
     "data": {
      "image/png": "[encoded data removed]",
      "text/plain": [
       "<Figure size 432x288 with 1 Axes>"
      ]
     },
     "metadata": {},
     "output_type": "display_data"
    }
   ],
   "source": [
    "# ---------- Changing Number of Principle Components for LinearSVC ----------\n",
    "# create arrays to hold test accuracy \n",
    "test_acc_1 = []\n",
    "test_acc_2 = []\n",
    "for i in range(1, 13):\n",
    "    X2_train, X2_test, Y2_train, Y2_test = train_test_split(pca_transform(X, i), y, test_size=0.5)\n",
    "    # fit using l1 regularization \n",
    "    acc = svm_linear('l1', X2_train, X2_test, Y2_train, Y2_test, 1)\n",
    "    test_acc_1.append(acc[1])\n",
    "    # fit using l2 regularization \n",
    "    acc = svm_linear('l2', X2_train, X2_test, Y2_train, Y2_test, 1)\n",
    "    test_acc_2.append(acc[1])\n",
    "\n",
    "# plot both regularizations on one graph \n",
    "l1, = plt.plot(range(1, 13), test_acc_1, label='L1 Regularization')\n",
    "plt.title('SVM Test Accuracy vs # of Principle Components')\n",
    "plt.xlabel('# of components')\n",
    "plt.ylabel('Test Accuracy')\n",
    "\n",
    "l2, = plt.plot(range(1,13), test_acc_2, label='L2 Regularization')\n",
    "plt.legend(handles=[l1, l2])"
   ]
  },
  {
   "cell_type": "markdown",
   "metadata": {},
   "source": [
    "#### SVM"
   ]
  },
  {
   "cell_type": "code",
   "execution_count": 27,
   "metadata": {},
   "outputs": [],
   "source": [
    "# Apply different SVM kernels to predict red/white wine \n",
    "# ---------- Linear Kernel (different library from linear SVC above) ----------\n",
    "def svm_lin(X_train, X_test, y_train, y_test, suppress):\n",
    "    svc_lin = svm.SVC(probability=False,kernel='linear')\n",
    "    svc_lin.fit(X_train, y_train)\n",
    "\n",
    "    # Calculate accuracy \n",
    "    tr_acc = svc_lin.score(X_train, y_train)*100\n",
    "    ts_acc = svc_lin.score(X_test, y_test)*100\n",
    "    \n",
    "    if(not suppress):\n",
    "        print('\\nSVM, Linear Kernel: ')\n",
    "        print('\\tTraining Accuracy: {0:.2f}%'.format(tr_acc))\n",
    "        print('\\tTest Accuracy: {0:.2f}%'.format(ts_acc))\n",
    "        \n",
    "    return tr_acc, ts_acc\n",
    "\n",
    "\n",
    "# ---------- RBF Kernel ----------\n",
    "def svm_rbf(X_train, X_test, y_train, y_test, suppress):\n",
    "    svc_rbf = svm.SVC(probability=False, kernel='rbf')\n",
    "    svc_rbf.fit(X_train, y_train)\n",
    "\n",
    "    # Calculate accuracy \n",
    "    tr_acc = svc_rbf.score(X_train, y_train)*100\n",
    "    ts_acc = svc_rbf.score(X_test, y_test)*100\n",
    "    \n",
    "    if(not suppress):\n",
    "        print('\\nSVM, RBF Kernel: ')\n",
    "        print('\\tTraining Accuracy: {0:.2f}%'.format(tr_acc))\n",
    "        print('\\tTest Accuracy: {0:.2f}%'.format(ts_acc))\n",
    "\n",
    "    return tr_acc, ts_acc\n",
    "\n",
    "# ---------- Polynomial Kernel ----------\n",
    "def svm_poly(X_train, X_test, y_train, y_test, suppress):\n",
    "    svc_polynomial = svm.SVC(probability=False,kernel='poly')\n",
    "    #print(X_train.shape[0])\n",
    "    '''\n",
    "    # Changing number of samples to shorten computation time \n",
    "    num = 30\n",
    "    A = X_train[0:num,:] \n",
    "    B = y_train[0:num]  \n",
    "    C = X_test[0:num,:]  \n",
    "    D = y_test[0:num]\n",
    "    svc_polynomial.fit(A,B)\n",
    "    '''\n",
    "    svc_polynomial.fit(X_train, y_train)\n",
    "\n",
    "    # Calcualte accuracy \n",
    "    #tr_acc = svc_polynomial.score(A, B)*100\n",
    "    #ts_acc = svc_polynomial.score(C, D)*100\n",
    "    tr_acc = svc_polynomial.score(X_train, y_train)*100\n",
    "    ts_acc = svc_polynomial.score(X_test, y_test)*100\n",
    "\n",
    "    if(not suppress):\n",
    "        print('\\nSVM, Polynomial Kernel: ')\n",
    "        print('\\tTraining Accuracy: {0:.2f}%'.format(tr_acc))\n",
    "        print('\\tTest Accuracy: {0:.2f}%'.format(ts_acc))\n",
    "    \n",
    "    return tr_acc, ts_acc"
   ]
  },
  {
   "cell_type": "code",
   "execution_count": 29,
   "metadata": {},
   "outputs": [
    {
     "name": "stdout",
     "output_type": "stream",
     "text": [
      "Run 1\n",
      "\t Linear Kernel\n",
      "\t RBF Kernel\n",
      "Run 2\n",
      "\t Linear Kernel\n",
      "\t RBF Kernel\n",
      "Run 3\n",
      "\t Linear Kernel\n",
      "\t RBF Kernel\n",
      "Run 4\n",
      "\t Linear Kernel\n",
      "\t RBF Kernel\n",
      "Run 5\n",
      "\t Linear Kernel\n",
      "\t RBF Kernel\n",
      "Run 6\n",
      "\t Linear Kernel\n",
      "\t RBF Kernel\n",
      "Run 7\n",
      "\t Linear Kernel\n",
      "\t RBF Kernel\n",
      "Run 8\n",
      "\t Linear Kernel\n",
      "\t RBF Kernel\n",
      "Run 9\n",
      "\t Linear Kernel\n",
      "\t RBF Kernel\n",
      "Run 10\n",
      "\t Linear Kernel\n",
      "\t RBF Kernel\n",
      "Run 11\n",
      "\t Linear Kernel\n",
      "\t RBF Kernel\n",
      "Run 12\n",
      "\t Linear Kernel\n",
      "\t RBF Kernel\n",
      "Run 1\n",
      "\t Polynomial Kernel \n",
      "25\n",
      "Run 2\n",
      "\t Polynomial Kernel \n",
      "25\n",
      "Run 3\n",
      "\t Polynomial Kernel \n",
      "25\n",
      "Run 4\n",
      "\t Polynomial Kernel \n",
      "25\n",
      "Run 5\n",
      "\t Polynomial Kernel \n",
      "25\n",
      "Run 6\n",
      "\t Polynomial Kernel \n",
      "25\n",
      "Run 7\n",
      "\t Polynomial Kernel \n",
      "25\n",
      "Run 8\n",
      "\t Polynomial Kernel \n",
      "25\n",
      "Run 9\n",
      "\t Polynomial Kernel \n",
      "25\n",
      "Run 10\n",
      "\t Polynomial Kernel \n",
      "25\n",
      "Run 11\n",
      "\t Polynomial Kernel \n",
      "25\n",
      "Run 12\n",
      "\t Polynomial Kernel \n",
      "25\n"
     ]
    },
    {
     "data": {
      "text/plain": [
       "<matplotlib.legend.Legend at 0x10d952278>"
      ]
     },
     "execution_count": 29,
     "metadata": {},
     "output_type": "execute_result"
    },
    {
     "data": {
      "image/png": "[encoded data removed]",
      "text/plain": [
       "<Figure size 432x288 with 1 Axes>"
      ]
     },
     "metadata": {},
     "output_type": "display_data"
    }
   ],
   "source": [
    "# ---------- Changing Number of Principle Components for SVM ----------\n",
    "# create arrays to hold test accuracy \n",
    "test_acc_1 = []\n",
    "test_acc_2 = []\n",
    "test_acc_3 = [] \n",
    "for i in range(1, 13):\n",
    "    print('Run {0}'.format(i))\n",
    "    X2_train, X2_test, Y2_train, Y2_test = train_test_split(pca_transform(X, i), y, test_size=0.996)\n",
    "    print('\\t Linear Kernel')\n",
    "    # fit using linear kernel\n",
    "    acc = svm_lin(X2_train, X2_test, Y2_train, Y2_test, 1)\n",
    "    test_acc_1.append(acc[1])\n",
    "    print('\\t RBF Kernel')\n",
    "    # fit using rbf kernel\n",
    "    acc = svm_rbf(X2_train, X2_test, Y2_train, Y2_test, 1)\n",
    "    test_acc_2.append(acc[1])\n",
    "    \n",
    "for i in range(1, 13):\n",
    "    print('Run {0}'.format(i))\n",
    "    X2_train, X2_test, Y2_train, Y2_test = train_test_split(pca_transform(X, i), y, test_size=0.996)\n",
    "    print('\\t Polynomial Kernel ')\n",
    "    # fit using polynomial kernel \n",
    "    acc = svm_poly(X2_train, X2_test, Y2_train, Y2_test, 1)\n",
    "    test_acc_3.append(acc[1])\n",
    "\n",
    "# plot all three kernels on one graph \n",
    "l1, = plt.plot(range(1, 13), test_acc_1, label='Linear Kernel')\n",
    "plt.title('SVM Test Accuracy vs # of Principle Components')\n",
    "plt.xlabel('# of components')\n",
    "plt.ylabel('Test Accuracy')\n",
    "\n",
    "l2, = plt.plot(range(1,13), test_acc_2, label='RBF Kernel')\n",
    "l3, = plt.plot(range(1,13), test_acc_3, label='Polynomial Kernel')\n",
    "plt.legend(handles=[l1, l2, l3])"
   ]
  },
  {
   "cell_type": "markdown",
   "metadata": {},
   "source": [
    "# Neural Network"
   ]
  },
  {
   "cell_type": "code",
   "execution_count": null,
   "metadata": {},
   "outputs": [],
   "source": [
    "import keras\n",
    "from keras.models import Sequential\n",
    "from keras.layers import Dense, Activation\n",
    "\n",
    "class AccHistory(keras.callbacks.Callback):\n",
    "    def on_train_begin(self, logs={}):\n",
    "        self.loss = []\n",
    "        self.acc = []\n",
    " \n",
    "    def on_batch_end(self, batch, logs={}):\n",
    "        self.loss.append(logs.get('loss'))\n",
    "        \n",
    "    def on_epoch_end(self, epoch, logs):\n",
    "        self.acc.append(logs.get('acc'))\n",
    "\n",
    "\n",
    "keras.backend.clear_session()\n",
    "cb = AccHistory()\n",
    "model = Sequential()\n",
    "model.add(Dense(10, activation='sigmoid', input_dim=12))\n",
    "model.add(Dense(1, activation='sigmoid'))\n",
    "\n",
    "model.compile(optimizer='sgd',\n",
    "              loss='mse',\n",
    "              metrics=['accuracy'])"
   ]
  },
  {
   "cell_type": "code",
   "execution_count": null,
   "metadata": {},
   "outputs": [],
   "source": [
    "model.fit(X_train, y_train, epochs=30, validation_data=(X_test, y_test), callbacks=[cb])"
   ]
  },
  {
   "cell_type": "code",
   "execution_count": null,
   "metadata": {},
   "outputs": [],
   "source": [
    "print(\"Test Loss: \\t{}\\nTest Accuracy: \\t{}\".format(*model.test_on_batch(X_test, y_test)))\n",
    "plt.plot(cb.acc)\n",
    "plt.title('Accuracy')\n",
    "plt.xlabel('epoch')\n",
    "plt.figure()\n",
    "plt.plot(cb.loss)\n",
    "plt.title('Loss')\n",
    "plt.xlabel('batch')"
   ]
  },
  {
   "cell_type": "code",
   "execution_count": null,
   "metadata": {},
   "outputs": [],
   "source": []
  }
 ],
 "metadata": {
  "kernelspec": {
   "display_name": "Python 3",
   "language": "python",
   "name": "python3"
  },
  "language_info": {
   "codemirror_mode": {
    "name": "ipython",
    "version": 3
   },
   "file_extension": ".py",
   "mimetype": "text/x-python",
   "name": "python",
   "nbconvert_exporter": "python",
   "pygments_lexer": "ipython3",
   "version": "3.6.5"
  }
 },
 "nbformat": 4,
 "nbformat_minor": 2
}
